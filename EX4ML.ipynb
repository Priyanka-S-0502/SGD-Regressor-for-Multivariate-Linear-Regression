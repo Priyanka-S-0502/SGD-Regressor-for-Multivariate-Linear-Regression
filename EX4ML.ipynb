{
 "cells": [
  {
   "cell_type": "code",
   "execution_count": 10,
   "id": "c8c51475-c10c-4df3-97fd-dddc06758f81",
   "metadata": {},
   "outputs": [
    {
     "name": "stdout",
     "output_type": "stream",
     "text": [
      "Mean Square Error: 2.557348194180367\n",
      "\n",
      "Predictions:\n",
      " [[ 1.08256937 35.67655336]\n",
      " [ 1.54009695 35.71010467]\n",
      " [ 2.38870892 35.53928191]\n",
      " [ 2.65704999 35.53399171]\n",
      " [ 2.12908822 35.66460034]]\n"
     ]
    }
   ],
   "source": [
    "import numpy as np\n",
    "from sklearn.datasets import fetch_california_housing\n",
    "from sklearn.linear_model import SGDRegressor\n",
    "from sklearn.multioutput import MultiOutputRegressor\n",
    "from sklearn.model_selection import train_test_split\n",
    "from sklearn.metrics import mean_squared_error\n",
    "from sklearn.preprocessing import StandardScaler\n",
    "data=fetch_california_housing()\n",
    "X=data.data[:,:3]\n",
    "Y=np.column_stack((data.target,data.data[:,6]))\n",
    "X_train,X_test,Y_train,Y_test=train_test_split(X,Y,test_size=0.2,random_state=42)\n",
    "scaler_X=StandardScaler()\n",
    "scaler_Y=StandardScaler()\n",
    "X_train =scaler_X.fit_transform(X_train)\n",
    "X_test=scaler_X.transform(X_test)\n",
    "Y_train=scaler_Y.fit_transform(Y_train)\n",
    "Y_test=scaler_Y.transform(Y_test)\n",
    "sgd=SGDRegressor(max_iter=1000, tol=1e-3)\n",
    "multi_output_sgd=MultiOutputRegressor(sgd)\n",
    "multi_output_sgd.fit(X_train,Y_train)\n",
    "Y_pred=multi_output_sgd.predict(X_test)\n",
    "Y_pred=scaler_Y.inverse_transform(Y_pred)\n",
    "Y_test=scaler_Y.inverse_transform(Y_test)\n",
    "mse=mean_squared_error(Y_test,Y_pred)\n",
    "print(\"Mean Square Error:\",mse)\n",
    "print(\"\\nPredictions:\\n\",Y_pred[:5])"
   ]
  },
  {
   "cell_type": "code",
   "execution_count": null,
   "id": "a0e2ed38-219e-4046-a080-d1933903db11",
   "metadata": {},
   "outputs": [],
   "source": []
  },
  {
   "cell_type": "code",
   "execution_count": null,
   "id": "069d257d-37ce-49ed-b2ee-8c7881971834",
   "metadata": {},
   "outputs": [],
   "source": []
  },
  {
   "cell_type": "code",
   "execution_count": null,
   "id": "2affe17d-b91a-4071-b6b2-970e73126573",
   "metadata": {},
   "outputs": [],
   "source": []
  },
  {
   "cell_type": "code",
   "execution_count": null,
   "id": "65f62a74-2497-42b5-9053-054be0305830",
   "metadata": {},
   "outputs": [],
   "source": []
  },
  {
   "cell_type": "code",
   "execution_count": null,
   "id": "a5db9c2f-2060-4b33-babf-bf1b0817d9fe",
   "metadata": {},
   "outputs": [],
   "source": []
  },
  {
   "cell_type": "code",
   "execution_count": null,
   "id": "d94dbeb1-6b74-429c-b42c-ab3f33678761",
   "metadata": {},
   "outputs": [],
   "source": []
  },
  {
   "cell_type": "code",
   "execution_count": null,
   "id": "5670dcd9-2917-431d-b5a2-92ed796db3d3",
   "metadata": {},
   "outputs": [],
   "source": []
  }
 ],
 "metadata": {
  "kernelspec": {
   "display_name": "Python [conda env:base] *",
   "language": "python",
   "name": "conda-base-py"
  },
  "language_info": {
   "codemirror_mode": {
    "name": "ipython",
    "version": 3
   },
   "file_extension": ".py",
   "mimetype": "text/x-python",
   "name": "python",
   "nbconvert_exporter": "python",
   "pygments_lexer": "ipython3",
   "version": "3.12.7"
  }
 },
 "nbformat": 4,
 "nbformat_minor": 5
}
